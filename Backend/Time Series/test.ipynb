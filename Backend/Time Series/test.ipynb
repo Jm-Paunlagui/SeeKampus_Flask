{
 "cells": [
  {
   "cell_type": "code",
   "execution_count": 1,
   "metadata": {
    "collapsed": true
   },
   "outputs": [
    {
     "name": "stderr",
     "output_type": "stream",
     "text": [
      "Importing plotly failed. Interactive plots will not work.\n"
     ]
    }
   ],
   "source": [
    "import pandas as pd\n",
    "import prophet as Prophet\n",
    "from datetime import datetime\n",
    "from prophet.plot import plot_plotly, plot_components_plotly"
   ]
  },
  {
   "cell_type": "code",
   "execution_count": null,
   "outputs": [],
   "source": [
    "df = pd.read_csv('test.csv')\n",
    "\n",
    "df['Year'] = df['Time Date'].apply(lambda x: str(x)[-4:])\n",
    "df['Month'] = df['Time Date'].apply(lambda x: str(x)[-6:-4])\n",
    "df['Day'] = df['Time Date'].apply(lambda x: str(x)[:-6])\n",
    "df['ds'] = pd.DatetimeIndex(df['Year']+'-'+df['Month']+'-'+df['Day'])\n",
    "\n",
    "df.drop(['Time Date', 'School', 'Course', 'Year', 'Month', 'Day'], axis=1, inplace=True)\n",
    "df.columns = ['y', 'ds']\n",
    "\n",
    "m = Prophet.Prophet(interval_width=0.95)\n",
    "m.add_seasonality(name='yearly', period=365.25, fourier_order=10)\n",
    "m.add_seasonality(name='semi-annual', period=365.25/2, fourier_order=10)\n",
    "_model = m.fit(df)\n",
    "\n",
    "# Get the latest date in the original data frame\n",
    "latest_date = df['ds'].max()\n",
    "\n",
    "# Get the range of dates for the future data frame\n",
    "start_date = latest_date - pd.DateOffset(years=5)\n",
    "end_date = latest_date + pd.DateOffset(years=5)\n",
    "future_dates = pd.date_range(start_date, end_date, freq='Y')\n",
    "\n",
    "# Create the future data frame\n",
    "_future = pd.DataFrame({'ds': future_dates})\n",
    "\n",
    "# Get predictions for those specific dates\n",
    "_forecast = m.predict(_future)\n",
    "_forecast['yhat'] = _forecast['yhat'].clip(lower=0, upper=100).round()\n",
    "yhat_values = _forecast['yhat'].tolist()\n",
    "school_pr = ['CCC'] + yhat_values\n",
    "school_pr"
   ],
   "metadata": {
    "collapsed": false
   }
  },
  {
   "cell_type": "code",
   "execution_count": 8,
   "outputs": [
    {
     "name": "stderr",
     "output_type": "stream",
     "text": [
      "C:\\Users\\wowha\\AppData\\Local\\Temp\\ipykernel_4372\\3792888497.py:11: SettingWithCopyWarning: \n",
      "A value is trying to be set on a copy of a slice from a DataFrame\n",
      "\n",
      "See the caveats in the documentation: https://pandas.pydata.org/pandas-docs/stable/user_guide/indexing.html#returning-a-view-versus-a-copy\n",
      "  df_school.drop(['Time Date', 'School', 'Course', 'Year', 'Month', 'Day'], axis=1, inplace=True)\n",
      "11:42:02 - cmdstanpy - INFO - Chain [1] start processing\n",
      "11:42:03 - cmdstanpy - INFO - Chain [1] done processing\n"
     ]
    },
    {
     "name": "stdout",
     "output_type": "stream",
     "text": [
      "['CCC', 12.0, 10.0, 8.0, 30.0, 39.0, 19.0, 7.0, 19.0, 21.0, 21.0]\n"
     ]
    },
    {
     "name": "stderr",
     "output_type": "stream",
     "text": [
      "C:\\Users\\wowha\\AppData\\Local\\Temp\\ipykernel_4372\\3792888497.py:11: SettingWithCopyWarning: \n",
      "A value is trying to be set on a copy of a slice from a DataFrame\n",
      "\n",
      "See the caveats in the documentation: https://pandas.pydata.org/pandas-docs/stable/user_guide/indexing.html#returning-a-view-versus-a-copy\n",
      "  df_school.drop(['Time Date', 'School', 'Course', 'Year', 'Month', 'Day'], axis=1, inplace=True)\n",
      "11:42:03 - cmdstanpy - INFO - Chain [1] start processing\n",
      "11:42:04 - cmdstanpy - INFO - Chain [1] done processing\n",
      "C:\\Users\\wowha\\AppData\\Local\\Temp\\ipykernel_4372\\3792888497.py:11: SettingWithCopyWarning: \n",
      "A value is trying to be set on a copy of a slice from a DataFrame\n",
      "\n",
      "See the caveats in the documentation: https://pandas.pydata.org/pandas-docs/stable/user_guide/indexing.html#returning-a-view-versus-a-copy\n",
      "  df_school.drop(['Time Date', 'School', 'Course', 'Year', 'Month', 'Day'], axis=1, inplace=True)\n",
      "11:42:04 - cmdstanpy - INFO - Chain [1] start processing\n"
     ]
    },
    {
     "name": "stdout",
     "output_type": "stream",
     "text": [
      "['CDC', 11.0, 21.0, 0.0, 0.0, 5.0, 0.0, 1.0, 14.0, 5.0, 12.0, 0.0]\n"
     ]
    },
    {
     "name": "stderr",
     "output_type": "stream",
     "text": [
      "11:42:04 - cmdstanpy - INFO - Chain [1] done processing\n"
     ]
    },
    {
     "name": "stdout",
     "output_type": "stream",
     "text": [
      "['LCBA', 6.0, 9.0, 11.0, 8.0, 5.0, 14.0, 4.0, 3.0, 0.0, 5.0, 2.0]\n"
     ]
    }
   ],
   "source": [
    "df = pd.read_csv('CSV/test.csv')\n",
    "\n",
    "df['Year'] = df['Time Date'].apply(lambda x: str(x)[-4:])\n",
    "df['Month'] = df['Time Date'].apply(lambda x: str(x)[-6:-4])\n",
    "df['Day'] = df['Time Date'].apply(lambda x: str(x)[:-6])\n",
    "df['ds'] = pd.DatetimeIndex(df['Year']+'-'+df['Month']+'-'+df['Day'])\n",
    "\n",
    "Schools = ['CCC', 'CDC', 'LCBA']\n",
    "for school in Schools:\n",
    "    df_school = df[df['School'] == school]\n",
    "    df_school.drop(['Time Date', 'School', 'Course', 'Year', 'Month', 'Day'], axis=1, inplace=True)\n",
    "    df_school.columns = ['y', 'ds']\n",
    "\n",
    "    m = Prophet.Prophet(interval_width=0.95)\n",
    "    m.add_seasonality(name='yearly', period=365.25, fourier_order=10)\n",
    "    m.add_seasonality(name='semi-annual', period=365.25/2, fourier_order=10)\n",
    "    _model = m.fit(df_school)\n",
    "\n",
    "    # Get the latest date in the original data frame\n",
    "    latest_date = df_school['ds'].max()\n",
    "\n",
    "    # Get the range of dates for the future data frame\n",
    "    start_date = latest_date - pd.DateOffset(years=5)\n",
    "    end_date = latest_date + pd.DateOffset(years=5)\n",
    "    future_dates = pd.date_range(start_date, end_date, freq='Y')\n",
    "\n",
    "    # Create the future data frame\n",
    "    _future = pd.DataFrame({'ds': future_dates})\n",
    "\n",
    "    # Get predictions for those specific dates\n",
    "    _forecast = m.predict(_future)\n",
    "    _forecast['yhat'] = _forecast['yhat'].clip(lower=0, upper=100).round()\n",
    "    yhat_values = _forecast['yhat'].tolist()\n",
    "    school_pr = [school] + yhat_values\n",
    "    print(school_pr)"
   ],
   "metadata": {
    "collapsed": false
   }
  },
  {
   "cell_type": "code",
   "execution_count": 11,
   "outputs": [
    {
     "ename": "SyntaxError",
     "evalue": "invalid syntax (3077713018.py, line 1)",
     "output_type": "error",
     "traceback": [
      "\u001B[1;36m  Cell \u001B[1;32mIn[11], line 1\u001B[1;36m\u001B[0m\n\u001B[1;33m    school_pr[]\u001B[0m\n\u001B[1;37m              ^\u001B[0m\n\u001B[1;31mSyntaxError\u001B[0m\u001B[1;31m:\u001B[0m invalid syntax\n"
     ]
    }
   ],
   "source": [
    "school_pr[]"
   ],
   "metadata": {
    "collapsed": false
   }
  },
  {
   "cell_type": "code",
   "execution_count": 10,
   "outputs": [
    {
     "data": {
      "text/plain": "6.0"
     },
     "execution_count": 10,
     "metadata": {},
     "output_type": "execute_result"
    }
   ],
   "source": [
    "school_pr[1]"
   ],
   "metadata": {
    "collapsed": false
   }
  },
  {
   "cell_type": "code",
   "execution_count": null,
   "outputs": [],
   "source": [],
   "metadata": {
    "collapsed": false
   }
  }
 ],
 "metadata": {
  "kernelspec": {
   "display_name": "Python 3",
   "language": "python",
   "name": "python3"
  },
  "language_info": {
   "codemirror_mode": {
    "name": "ipython",
    "version": 2
   },
   "file_extension": ".py",
   "mimetype": "text/x-python",
   "name": "python",
   "nbconvert_exporter": "python",
   "pygments_lexer": "ipython2",
   "version": "2.7.6"
  }
 },
 "nbformat": 4,
 "nbformat_minor": 0
}
