{
 "cells": [
  {
   "cell_type": "code",
   "execution_count": 1,
   "metadata": {
    "collapsed": true
   },
   "outputs": [
    {
     "name": "stderr",
     "output_type": "stream",
     "text": [
      "Importing plotly failed. Interactive plots will not work.\n"
     ]
    }
   ],
   "source": [
    "import pandas as pd\n",
    "import prophet as Prophet\n",
    "from datetime import datetime"
   ]
  },
  {
   "cell_type": "code",
   "execution_count": null,
   "outputs": [],
   "source": [
    "letran_electrical = pd.read_csv('CSV/board-exam-results - LETRAN-Electrical.csv')\n",
    "\n",
    "letran_electrical['Year'] = letran_electrical['Time Date'].apply(lambda x: str(x)[-4:])\n",
    "letran_electrical['Month'] = letran_electrical['Time Date'].apply(lambda x: str(x)[-6:-4])\n",
    "letran_electrical['Day'] = letran_electrical['Time Date'].apply(lambda x: str(x)[:-6])\n",
    "letran_electrical['ds'] = pd.DatetimeIndex(letran_electrical['Year']+'-'+letran_electrical['Month']+'-'+letran_electrical['Day'])\n",
    "\n",
    "letran_electrical.drop(['Time Date', 'School', 'Course', 'Year', 'Month', 'Day'], axis=1, inplace=True)\n",
    "letran_electrical.columns = ['y', 'ds']\n",
    "\n",
    "m = Prophet.Prophet(interval_width=0.95)\n",
    "m.add_seasonality(name='yearly', period=365.25, fourier_order=10)\n",
    "m.add_seasonality(name='semi-annual', period=365.25/2, fourier_order=10)\n",
    "letran_electrical_model = m.fit(letran_electrical)\n",
    "\n",
    "# Create a list of dates for which you want to make predictions\n",
    "specific_dates = [datetime(2023, 4, 28), datetime(2023, 10, 4), datetime(2024, 4, 28), datetime(2024, 10, 4), datetime(2025, 4, 28), datetime(2025, 10, 4), datetime(2026, 4, 28), datetime(2026, 10, 4), datetime(2027, 4, 28), datetime(2027, 10, 4), datetime(2028, 4, 28), datetime(2028, 10, 4), datetime(2029, 4, 28), datetime(2029, 10, 4), datetime(2030, 4, 28), datetime(2030, 10, 4)]\n",
    "\n",
    "# Create a dataframe with those specific dates\n",
    "_future = pd.DataFrame({'ds': specific_dates})\n",
    "\n",
    "# Get predictions for those specific dates\n",
    "_forecast = m.predict(_future)\n",
    "_forecast['yhat'] = _forecast['yhat'].clip(lower=0, upper=100).round()"
   ],
   "metadata": {
    "collapsed": false
   }
  }
 ],
 "metadata": {
  "kernelspec": {
   "display_name": "Python 3",
   "language": "python",
   "name": "python3"
  },
  "language_info": {
   "codemirror_mode": {
    "name": "ipython",
    "version": 2
   },
   "file_extension": ".py",
   "mimetype": "text/x-python",
   "name": "python",
   "nbconvert_exporter": "python",
   "pygments_lexer": "ipython2",
   "version": "2.7.6"
  }
 },
 "nbformat": 4,
 "nbformat_minor": 0
}
