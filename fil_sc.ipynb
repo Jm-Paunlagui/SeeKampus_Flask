{
 "cells": [
  {
   "cell_type": "code",
   "execution_count": 4,
   "metadata": {
    "collapsed": true
   },
   "outputs": [
    {
     "name": "stdout",
     "output_type": "stream",
     "text": [
      "0    AMA Computer College\n",
      "1     Saint John Colleges\n",
      "Name: School, dtype: object\n"
     ]
    }
   ],
   "source": [
    "from app import db, DTSchool\n",
    "import pandas as pd\n",
    "\n",
    "course = input(\"Enter the course name: \")\n",
    "tuition_fee = input(\"Enter the tuition fee: \")\n",
    "location = input(\"Enter the location: \")\n",
    "\n",
    "school_data = pd.read_sql_query(db.session.query(DTSchool).filter(\n",
    "    (DTSchool.Course == course) & (DTSchool.Tuition_Fee == tuition_fee) | (DTSchool.Location == location)\n",
    "    ).statement, db.session.bind)\n",
    "\n",
    "print(school_data['School'])"
   ]
  },
  {
   "cell_type": "code",
   "execution_count": null,
   "outputs": [],
   "source": [
    "from app import db, ScProfiles\n",
    "import pandas as pd\n",
    "\n",
    "course = 'Bachelor of Science in Accountancy'\n",
    "tuition_fee = input(\"Enter the tuition fee: \")\n",
    "location = input(\"Enter the location: \")\n",
    "\n",
    "school_data = pd.read_sql_query(db.session.query(DTSchool).filter(\n",
    "    (DTSchool.Course == course) & (DTSchool.Tuition_Fee == tuition_fee) | (DTSchool.Location == location)\n",
    "    ).statement, db.session.bind)\n",
    "\n",
    "print(school_data['School'])"
   ],
   "metadata": {
    "collapsed": false
   }
  }
 ],
 "metadata": {
  "kernelspec": {
   "display_name": "Python 3",
   "language": "python",
   "name": "python3"
  },
  "language_info": {
   "codemirror_mode": {
    "name": "ipython",
    "version": 2
   },
   "file_extension": ".py",
   "mimetype": "text/x-python",
   "name": "python",
   "nbconvert_exporter": "python",
   "pygments_lexer": "ipython2",
   "version": "2.7.6"
  }
 },
 "nbformat": 4,
 "nbformat_minor": 0
}
